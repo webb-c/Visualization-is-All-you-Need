{
 "cells": [
  {
   "cell_type": "markdown",
   "metadata": {},
   "source": [
    "시각화에 사용할 모든 데이터는 ./data 폴더 내부에 위치시켜주세요"
   ]
  },
  {
   "cell_type": "code",
   "execution_count": 5,
   "metadata": {},
   "outputs": [],
   "source": [
    "import os\n",
    "import tensorflow as tf\n",
    "import pandas as pd\n",
    "import numpy as np\n",
    "import matplotlib.pyplot as plt\n",
    "from tensorflow.python.summary.summary_iterator import summary_iterator\n",
    "from IPython.display import display\n"
   ]
  },
  {
   "cell_type": "code",
   "execution_count": 6,
   "metadata": {},
   "outputs": [],
   "source": [
    "ROOT = 'data/'\n",
    "import data_manage as dm\n",
    "import visualization as vis \n",
    "import lrlo"
   ]
  },
  {
   "cell_type": "code",
   "execution_count": 7,
   "metadata": {},
   "outputs": [
    {
     "name": "stdout",
     "output_type": "stream",
     "text": [
      "DataFrame Info:\n",
      "==================================================\n",
      "✲ Shape: (150, 3)\n",
      "✲ Columns:\n",
      "Index(['Reward/all', 'Reward/10', 'Network/send_a(t)'], dtype='object')\n",
      "\n",
      "✲ Data Types:\n",
      "Reward/all           float64\n",
      "Reward/10            float64\n",
      "Network/send_a(t)    float64\n",
      "dtype: object\n",
      "\n",
      "✲Non-null Value Counts:\n",
      "Reward/all           150\n",
      "Reward/10            150\n",
      "Network/send_a(t)    150\n",
      "dtype: int64\n",
      "\n",
      "DataFrame HEAD:\n",
      "--------------------------------------------------\n"
     ]
    },
    {
     "data": {
      "text/html": [
       "<div>\n",
       "<style scoped>\n",
       "    .dataframe tbody tr th:only-of-type {\n",
       "        vertical-align: middle;\n",
       "    }\n",
       "\n",
       "    .dataframe tbody tr th {\n",
       "        vertical-align: top;\n",
       "    }\n",
       "\n",
       "    .dataframe thead th {\n",
       "        text-align: right;\n",
       "    }\n",
       "</style>\n",
       "<table border=\"1\" class=\"dataframe\">\n",
       "  <thead>\n",
       "    <tr style=\"text-align: right;\">\n",
       "      <th></th>\n",
       "      <th>Reward/all</th>\n",
       "      <th>Reward/10</th>\n",
       "      <th>Network/send_a(t)</th>\n",
       "    </tr>\n",
       "  </thead>\n",
       "  <tbody>\n",
       "    <tr>\n",
       "      <th>0</th>\n",
       "      <td>215.047760</td>\n",
       "      <td>215.047760</td>\n",
       "      <td>6498.0</td>\n",
       "    </tr>\n",
       "    <tr>\n",
       "      <th>1</th>\n",
       "      <td>199.392685</td>\n",
       "      <td>199.392685</td>\n",
       "      <td>6208.0</td>\n",
       "    </tr>\n",
       "    <tr>\n",
       "      <th>2</th>\n",
       "      <td>204.533752</td>\n",
       "      <td>204.533752</td>\n",
       "      <td>6220.0</td>\n",
       "    </tr>\n",
       "    <tr>\n",
       "      <th>3</th>\n",
       "      <td>202.872406</td>\n",
       "      <td>202.872406</td>\n",
       "      <td>6304.0</td>\n",
       "    </tr>\n",
       "    <tr>\n",
       "      <th>4</th>\n",
       "      <td>197.942703</td>\n",
       "      <td>197.942703</td>\n",
       "      <td>6133.0</td>\n",
       "    </tr>\n",
       "  </tbody>\n",
       "</table>\n",
       "</div>"
      ],
      "text/plain": [
       "   Reward/all   Reward/10  Network/send_a(t)\n",
       "0  215.047760  215.047760             6498.0\n",
       "1  199.392685  199.392685             6208.0\n",
       "2  204.533752  204.533752             6220.0\n",
       "3  202.872406  202.872406             6304.0\n",
       "4  197.942703  197.942703             6133.0"
      ]
     },
     "metadata": {},
     "output_type": "display_data"
    },
    {
     "name": "stdout",
     "output_type": "stream",
     "text": [
      "DataFrame TAIL:\n",
      "--------------------------------------------------\n"
     ]
    },
    {
     "data": {
      "text/html": [
       "<div>\n",
       "<style scoped>\n",
       "    .dataframe tbody tr th:only-of-type {\n",
       "        vertical-align: middle;\n",
       "    }\n",
       "\n",
       "    .dataframe tbody tr th {\n",
       "        vertical-align: top;\n",
       "    }\n",
       "\n",
       "    .dataframe thead th {\n",
       "        text-align: right;\n",
       "    }\n",
       "</style>\n",
       "<table border=\"1\" class=\"dataframe\">\n",
       "  <thead>\n",
       "    <tr style=\"text-align: right;\">\n",
       "      <th></th>\n",
       "      <th>Reward/all</th>\n",
       "      <th>Reward/10</th>\n",
       "      <th>Network/send_a(t)</th>\n",
       "    </tr>\n",
       "  </thead>\n",
       "  <tbody>\n",
       "    <tr>\n",
       "      <th>145</th>\n",
       "      <td>237.753036</td>\n",
       "      <td>237.753036</td>\n",
       "      <td>4663.0</td>\n",
       "    </tr>\n",
       "    <tr>\n",
       "      <th>146</th>\n",
       "      <td>247.307404</td>\n",
       "      <td>247.307404</td>\n",
       "      <td>6172.0</td>\n",
       "    </tr>\n",
       "    <tr>\n",
       "      <th>147</th>\n",
       "      <td>234.705673</td>\n",
       "      <td>234.705673</td>\n",
       "      <td>5429.0</td>\n",
       "    </tr>\n",
       "    <tr>\n",
       "      <th>148</th>\n",
       "      <td>240.958954</td>\n",
       "      <td>240.958954</td>\n",
       "      <td>5342.0</td>\n",
       "    </tr>\n",
       "    <tr>\n",
       "      <th>149</th>\n",
       "      <td>240.226990</td>\n",
       "      <td>240.226990</td>\n",
       "      <td>5082.0</td>\n",
       "    </tr>\n",
       "  </tbody>\n",
       "</table>\n",
       "</div>"
      ],
      "text/plain": [
       "     Reward/all   Reward/10  Network/send_a(t)\n",
       "145  237.753036  237.753036             4663.0\n",
       "146  247.307404  247.307404             6172.0\n",
       "147  234.705673  234.705673             5429.0\n",
       "148  240.958954  240.958954             5342.0\n",
       "149  240.226990  240.226990             5082.0"
      ]
     },
     "metadata": {},
     "output_type": "display_data"
    }
   ],
   "source": [
    "log_dir = ROOT + \"logs/\" + \"240318-184226_videopath_JK_rewardmethod_10_importantmethod_021_threshold_0.35\"\n",
    "\n",
    "df = dm.load_log(log_dir)\n",
    "dm.df_info(df)"
   ]
  },
  {
   "cell_type": "code",
   "execution_count": null,
   "metadata": {},
   "outputs": [],
   "source": []
  },
  {
   "cell_type": "code",
   "execution_count": null,
   "metadata": {},
   "outputs": [],
   "source": []
  }
 ],
 "metadata": {
  "kernelspec": {
   "display_name": "COIN",
   "language": "python",
   "name": "python3"
  },
  "language_info": {
   "codemirror_mode": {
    "name": "ipython",
    "version": 3
   },
   "file_extension": ".py",
   "mimetype": "text/x-python",
   "name": "python",
   "nbconvert_exporter": "python",
   "pygments_lexer": "ipython3",
   "version": "3.10.11"
  }
 },
 "nbformat": 4,
 "nbformat_minor": 2
}
