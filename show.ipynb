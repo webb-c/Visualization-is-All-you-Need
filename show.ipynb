{
 "cells": [
  {
   "cell_type": "markdown",
   "metadata": {},
   "source": [
    "시각화에 사용할 모든 데이터는 ./data 폴더 내부에 위치시켜주세요"
   ]
  },
  {
   "cell_type": "code",
   "execution_count": null,
   "metadata": {},
   "outputs": [],
   "source": [
    "import os\n",
    "import tensorflow as tf\n",
    "import pandas as pd\n",
    "import numpy as np\n",
    "import matplotlib.pyplot as plt\n",
    "from tensorflow.python.summary.summary_iterator import summary_iterator\n",
    "from IPython.display import display\n"
   ]
  },
  {
   "cell_type": "code",
   "execution_count": null,
   "metadata": {},
   "outputs": [],
   "source": [
    "ROOT = 'data/'\n",
    "import data_manage as dm\n",
    "import visualization as vis \n",
    "import lrlo"
   ]
  },
  {
   "cell_type": "code",
   "execution_count": null,
   "metadata": {},
   "outputs": [],
   "source": [
    "train_log_dir = ROOT + \"logs/\" + \"240318-184226_videopath_JK_rewardmethod_10_importantmethod_021_threshold_0.35\"\n",
    "test_log_dir = ROOT + \"logs/\" + \"JK-1_TEST_LOWEPS_Agent2_MASK_same_003\"\n",
    "model_path = ROOT + \"models/\" + \"240318-225851_videopath_JK_rewardmethod_11_importantmethod_021_threshold_0.3_epsdec_0.005.npy\""
   ]
  },
  {
   "cell_type": "code",
   "execution_count": null,
   "metadata": {},
   "outputs": [],
   "source": [
    "train_df = dm.load_log(train_log_dir)\n",
    "dm.df_info(train_df)\n",
    "\n",
    "test_df = dm.load_log(test_log_dir, tag_filter=[\"Network/Diff\", \"Network/send_a(t)\", \"Network/target_A(t)\"])\n",
    "dm.df_info(test_df)"
   ]
  },
  {
   "cell_type": "code",
   "execution_count": null,
   "metadata": {},
   "outputs": [],
   "source": [
    "save_path = lrlo.make_save_path(test_log_dir, \"barcode\")"
   ]
  },
  {
   "cell_type": "code",
   "execution_count": null,
   "metadata": {},
   "outputs": [],
   "source": [
    "df_2 = dm.extract_column_from_df(train_df, [\"Reward/all\"])\n",
    "vis.plot_dataframe(df_2, save=False)\n"
   ]
  },
  {
   "cell_type": "code",
   "execution_count": null,
   "metadata": {},
   "outputs": [],
   "source": [
    "vis.plot_dataframe_each_plot(train_df, title=\"train log\", save=False)"
   ]
  },
  {
   "cell_type": "code",
   "execution_count": null,
   "metadata": {},
   "outputs": [],
   "source": [
    "test_send_df = dm.extract_column_from_df(test_df, [\"Network/send_a(t)\"])\n",
    "test_action_df = dm.revise_df(test_send_df, 'subtract', column=\"Network/send_a(t)\", value=30, prior_value=True)\n",
    "vis.make_barcode(test_send_df, 192*30, \"red\")\n",
    "vis.make_barcode(test_action_df, 192*30, \"blue\")"
   ]
  },
  {
   "cell_type": "code",
   "execution_count": null,
   "metadata": {},
   "outputs": [],
   "source": [
    "vis.plot_dataframe(test_send_df, save=False)"
   ]
  },
  {
   "cell_type": "code",
   "execution_count": null,
   "metadata": {},
   "outputs": [],
   "source": [
    "column_list = [\"Network/send_a(t)\"]\n",
    "df_name_list = [\"entire\", \"extract\"]\n",
    "df_list = [test_df, test_send_df]\n",
    "new_df = dm.combine_columns_into_df(column_list, df_name_list, df_list)"
   ]
  },
  {
   "cell_type": "code",
   "execution_count": null,
   "metadata": {},
   "outputs": [],
   "source": []
  },
  {
   "cell_type": "code",
   "execution_count": null,
   "metadata": {},
   "outputs": [],
   "source": []
  }
 ],
 "metadata": {
  "kernelspec": {
   "display_name": "COIN",
   "language": "python",
   "name": "python3"
  },
  "language_info": {
   "codemirror_mode": {
    "name": "ipython",
    "version": 3
   },
   "file_extension": ".py",
   "mimetype": "text/x-python",
   "name": "python",
   "nbconvert_exporter": "python",
   "pygments_lexer": "ipython3",
   "version": "3.10.11"
  }
 },
 "nbformat": 4,
 "nbformat_minor": 2
}
