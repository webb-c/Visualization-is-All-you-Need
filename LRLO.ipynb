{
 "cells": [
  {
   "cell_type": "code",
   "execution_count": null,
   "metadata": {},
   "outputs": [],
   "source": [
    "import matplotlib.pyplot as plt\n",
    "import pandas as pd"
   ]
  },
  {
   "cell_type": "code",
   "execution_count": null,
   "metadata": {},
   "outputs": [],
   "source": [
    "import visualization as vis\n",
    "import data_manage as dm\n",
    "import lrlo as lrlo"
   ]
  },
  {
   "cell_type": "code",
   "execution_count": null,
   "metadata": {},
   "outputs": [],
   "source": [
    "LOG_ROOT = 'data/logs/'\n",
    "CSV_ROOT = 'data/csvs/'"
   ]
  },
  {
   "cell_type": "code",
   "execution_count": null,
   "metadata": {},
   "outputs": [],
   "source": [
    "backlog_path_masking = CSV_ROOT + \"test_backlog_masking.csv\"\n",
    "latency_path_masking = CSV_ROOT + \"test_latency_masking.csv\"\n",
    "backlog_path_unmasking = CSV_ROOT + \"test_backlog_unmasking.csv\"\n",
    "latency_path_unmasking = CSV_ROOT + \"test_latency_unmasking.csv\"\n",
    "log_dir_train = LOG_ROOT + \"train/240318-184226_videopath_JK_rewardmethod_10_importantmethod_021_threshold_0.35\"\n",
    "log_dir_masking = LOG_ROOT + \"test/JK-1_TEST_LOWEPS_Agent2_MASK_same_003\"\n",
    "log_dir_unmasking = LOG_ROOT + \"test/JK-1_TEST_LOWEPS_Agent3_same_003\""
   ]
  },
  {
   "cell_type": "code",
   "execution_count": null,
   "metadata": {},
   "outputs": [],
   "source": [
    "color_list = [\"tomato\", \"salmon\", \"darkorange\", \"gold\", \"forestgreen\", \"mediumseagreen\", \"cornflowblue\", \"royalblue\", \"steelblue\", \"slateblue\"]"
   ]
  },
  {
   "cell_type": "code",
   "execution_count": null,
   "metadata": {},
   "outputs": [],
   "source": [
    "network_config = {\n",
    "    \"abilene\" : {\n",
    "        \"node_num\" : 11,\n",
    "        \"dest_node\" : [\"node 9\", \"node 10\", \"node 11\"]\n",
    "    },\n",
    "    # TODO: config 받으면 그 떄 수정할 것\n",
    "    \"yolo\" : {\n",
    "        \"node_num\" : 3,\n",
    "        \"dest_node\" : [\"node 2\"]\n",
    "    }\n",
    "}"
   ]
  },
  {
   "cell_type": "markdown",
   "metadata": {},
   "source": [
    "### 1. Plot log Data"
   ]
  },
  {
   "cell_type": "code",
   "execution_count": null,
   "metadata": {},
   "outputs": [],
   "source": [
    "SKIP = True"
   ]
  },
  {
   "cell_type": "code",
   "execution_count": null,
   "metadata": {},
   "outputs": [],
   "source": [
    "# Load Data\n",
    "tag_list = [\"Network/Diff\", \"Network/send_a(t)\", \"Network/target_A(t)\"]\n",
    "\n",
    "train = dm.load_log(log_dir_train)\n",
    "masking = dm.load_log(log_dir_masking, tag_list)\n",
    "unmasking = dm.load_log(log_dir_unmasking, tag_list)"
   ]
  },
  {
   "cell_type": "code",
   "execution_count": null,
   "metadata": {},
   "outputs": [],
   "source": [
    "if not SKIP:\n",
    "    lrlo.plot_reward(train)\n",
    "    lrlo.plot_comparison_reward([train, train], ['10', '11'])\n",
    "    lrlo.plot_frame_barcode(masking, color=\"mediumseagreen\")\n",
    "    lrlo.plot_frame_barcode(unmasking, color=\"salmon\")"
   ]
  },
  {
   "cell_type": "code",
   "execution_count": null,
   "metadata": {},
   "outputs": [],
   "source": [
    "if not SKIP:\n",
    "    lrlo.plot_send(masking)\n",
    "    lrlo.plot_fraction(masking)\n",
    "    lrlo.plot_send_and_guide(masking)\n",
    "    lrlo.plot_send_and_guide_as_fraction(masking)\n",
    "    lrlo.plot_comparison_send([masking, unmasking], [\"masking\", \"unmasking\"])\n",
    "    lrlo.plot_comparison_fraction([masking, unmasking], [\"masking\", \"unmasking\"])\n",
    "    lrlo.plot_diff(masking)\n",
    "    lrlo.plot_comparison_diff([masking, unmasking], [\"masking\", \"unmasking\"])"
   ]
  },
  {
   "cell_type": "markdown",
   "metadata": {},
   "source": [
    "### 2. Plot OMNeT++ Data"
   ]
  },
  {
   "cell_type": "code",
   "execution_count": null,
   "metadata": {},
   "outputs": [],
   "source": [
    "# Load Data\n",
    "latency_masking = dm.load_csv(latency_path_masking)\n",
    "latency_masking_df = lrlo.parse_omnet_csv(latency_masking, 'latency', node_list=[\"node9\", \"node10\", \"node11\"])\n",
    "latency_unmasking = dm.load_csv(latency_path_unmasking)\n",
    "latency_unmasking_df = lrlo.parse_omnet_csv(latency_unmasking, 'latency', node_list=[\"node9\", \"node10\", \"node11\"])\n",
    "\n",
    "backlog_masking = dm.load_csv(backlog_path_masking)\n",
    "backlog_masking_df = lrlo.parse_omnet_csv(backlog_masking, 'backlog')\n",
    "backlog_unmasking = dm.load_csv(backlog_path_unmasking)\n",
    "backlog_unmasking_df = lrlo.parse_omnet_csv(backlog_unmasking, 'backlog')\n",
    "\n",
    "sum_masking_df = lrlo.get_backlog_sum(backlog_masking_df)\n",
    "sum_unmasking_df = lrlo.get_backlog_sum(backlog_unmasking_df)"
   ]
  },
  {
   "cell_type": "code",
   "execution_count": null,
   "metadata": {},
   "outputs": [],
   "source": [
    "lrlo.plot_each_latency(latency_masking_df)\n",
    "lrlo.plot_each_latency(latency_unmasking_df)\n",
    "lrlo.plot_each_comparison_latency([latency_masking_df, latency_unmasking_df])"
   ]
  },
  {
   "cell_type": "code",
   "execution_count": null,
   "metadata": {},
   "outputs": [],
   "source": [
    "lrlo.plot_backlog(sum_masking_df)\n",
    "lrlo.plot_backlog(sum_unmasking_df)\n",
    "\n",
    "lrlo.plot_comparison_backlog([sum_masking_df, sum_unmasking_df])"
   ]
  },
  {
   "cell_type": "code",
   "execution_count": null,
   "metadata": {},
   "outputs": [],
   "source": [
    "lrlo.plot_each_backlog(backlog_unmasking_df)"
   ]
  },
  {
   "cell_type": "code",
   "execution_count": null,
   "metadata": {},
   "outputs": [],
   "source": []
  }
 ],
 "metadata": {
  "kernelspec": {
   "display_name": "COIN",
   "language": "python",
   "name": "python3"
  },
  "language_info": {
   "codemirror_mode": {
    "name": "ipython",
    "version": 3
   },
   "file_extension": ".py",
   "mimetype": "text/x-python",
   "name": "python",
   "nbconvert_exporter": "python",
   "pygments_lexer": "ipython3",
   "version": "3.10.11"
  }
 },
 "nbformat": 4,
 "nbformat_minor": 2
}
